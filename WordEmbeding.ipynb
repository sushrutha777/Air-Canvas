{
  "cells": [
    {
      "cell_type": "markdown",
      "metadata": {
        "id": "view-in-github",
        "colab_type": "text"
      },
      "source": [
        "<a href=\"https://colab.research.google.com/github/sushrutha777/Air-Canvas/blob/master/WordEmbeding.ipynb\" target=\"_parent\"><img src=\"https://colab.research.google.com/assets/colab-badge.svg\" alt=\"Open In Colab\"/></a>"
      ]
    },
    {
      "cell_type": "code",
      "execution_count": 54,
      "metadata": {
        "id": "B5obojX82qW3"
      },
      "outputs": [],
      "source": [
        "from tensorflow.keras.preprocessing.text import one_hot"
      ]
    },
    {
      "cell_type": "code",
      "execution_count": 55,
      "metadata": {
        "id": "wjvQvTpc2qW4"
      },
      "outputs": [],
      "source": [
        "### sentences\n",
        "sent=[  'the glass of milk',\n",
        "     'the glass of juice',\n",
        "     'the cup of tea',\n",
        "    'I am a good boy',\n",
        "     'I am a good developer',\n",
        "     'understand the meaning of words',\n",
        "     'your videos are good',]"
      ]
    },
    {
      "cell_type": "code",
      "execution_count": 56,
      "metadata": {
        "colab": {
          "base_uri": "https://localhost:8080/"
        },
        "id": "1Uh64uaH2qW4",
        "outputId": "b0ac45b7-f211-4c6e-8fae-ad81c79c383c"
      },
      "outputs": [
        {
          "output_type": "execute_result",
          "data": {
            "text/plain": [
              "['the glass of milk',\n",
              " 'the glass of juice',\n",
              " 'the cup of tea',\n",
              " 'I am a good boy',\n",
              " 'I am a good developer',\n",
              " 'understand the meaning of words',\n",
              " 'your videos are good']"
            ]
          },
          "metadata": {},
          "execution_count": 56
        }
      ],
      "source": [
        "sent"
      ]
    },
    {
      "cell_type": "code",
      "execution_count": 57,
      "metadata": {
        "id": "3wfPs12a2qW5"
      },
      "outputs": [],
      "source": [
        "## Define the vocabulary size\n",
        "voc_size=10000"
      ]
    },
    {
      "cell_type": "code",
      "execution_count": 58,
      "metadata": {
        "colab": {
          "base_uri": "https://localhost:8080/"
        },
        "id": "-JfqTcc82qW5",
        "outputId": "baeefe5d-2fba-4717-8b28-3216550bbf68"
      },
      "outputs": [
        {
          "output_type": "execute_result",
          "data": {
            "text/plain": [
              "['the glass of milk',\n",
              " 'the glass of juice',\n",
              " 'the cup of tea',\n",
              " 'I am a good boy',\n",
              " 'I am a good developer',\n",
              " 'understand the meaning of words',\n",
              " 'your videos are good']"
            ]
          },
          "metadata": {},
          "execution_count": 58
        }
      ],
      "source": [
        "sent"
      ]
    },
    {
      "cell_type": "code",
      "execution_count": 59,
      "metadata": {
        "colab": {
          "base_uri": "https://localhost:8080/"
        },
        "id": "guDMeh4p2qW5",
        "outputId": "f92efd60-4ae5-4254-dc38-c9da7eaa7203"
      },
      "outputs": [
        {
          "output_type": "execute_result",
          "data": {
            "text/plain": [
              "[[2388, 8506, 3450, 4001],\n",
              " [2388, 8506, 3450, 2012],\n",
              " [2388, 8337, 3450, 2717],\n",
              " [3989, 5908, 740, 138, 7827],\n",
              " [3989, 5908, 740, 138, 5627],\n",
              " [8436, 2388, 5838, 3450, 4167],\n",
              " [4791, 8914, 1162, 138]]"
            ]
          },
          "metadata": {},
          "execution_count": 59
        }
      ],
      "source": [
        "### One Hot Representation\n",
        "one_hot_repr=[one_hot(words,voc_size)for words in sent]\n",
        "one_hot_repr"
      ]
    },
    {
      "cell_type": "code",
      "execution_count": 60,
      "metadata": {
        "id": "L3bzGaGA2qW5"
      },
      "outputs": [],
      "source": [
        "## word Embedding Representation\n",
        "\n",
        "from tensorflow.keras.layers import Embedding\n",
        "#from tensorflow.keras.processing.sequence import pad_sequences\n",
        "from tensorflow.keras.utils import pad_sequences\n",
        "from tensorflow.keras.models import Sequential"
      ]
    },
    {
      "cell_type": "code",
      "execution_count": 61,
      "metadata": {
        "id": "4GP3V-4U2qW5"
      },
      "outputs": [],
      "source": [
        "import numpy as np"
      ]
    },
    {
      "cell_type": "code",
      "execution_count": 62,
      "metadata": {
        "colab": {
          "base_uri": "https://localhost:8080/"
        },
        "id": "MYYWMi2j2qW5",
        "outputId": "a532c86a-a1ab-4634-c46e-206ac5a3d57d"
      },
      "outputs": [
        {
          "output_type": "stream",
          "name": "stdout",
          "text": [
            "[[   0    0    0    0 2388 8506 3450 4001]\n",
            " [   0    0    0    0 2388 8506 3450 2012]\n",
            " [   0    0    0    0 2388 8337 3450 2717]\n",
            " [   0    0    0 3989 5908  740  138 7827]\n",
            " [   0    0    0 3989 5908  740  138 5627]\n",
            " [   0    0    0 8436 2388 5838 3450 4167]\n",
            " [   0    0    0    0 4791 8914 1162  138]]\n"
          ]
        }
      ],
      "source": [
        "sent_length=8\n",
        "embedded_docs=pad_sequences(one_hot_repr,padding='pre',maxlen=sent_length)\n",
        "print(embedded_docs)"
      ]
    },
    {
      "cell_type": "code",
      "execution_count": 63,
      "metadata": {
        "id": "I62-_RLV2qW5"
      },
      "outputs": [],
      "source": [
        "## feature representation\n",
        "dim=10"
      ]
    },
    {
      "cell_type": "code",
      "execution_count": 64,
      "metadata": {
        "colab": {
          "base_uri": "https://localhost:8080/",
          "height": 217
        },
        "id": "WBIyCrbF2qW6",
        "outputId": "cfab7199-c92b-46b5-84b5-9b8b1a3e7dc4"
      },
      "outputs": [
        {
          "output_type": "stream",
          "name": "stderr",
          "text": [
            "/usr/local/lib/python3.11/dist-packages/keras/src/layers/core/embedding.py:93: UserWarning: Do not pass an `input_shape`/`input_dim` argument to a layer. When using Sequential models, prefer using an `Input(shape)` object as the first layer in the model instead.\n",
            "  super().__init__(**kwargs)\n"
          ]
        },
        {
          "output_type": "display_data",
          "data": {
            "text/plain": [
              "\u001b[1mModel: \"sequential_3\"\u001b[0m\n"
            ],
            "text/html": [
              "<pre style=\"white-space:pre;overflow-x:auto;line-height:normal;font-family:Menlo,'DejaVu Sans Mono',consolas,'Courier New',monospace\"><span style=\"font-weight: bold\">Model: \"sequential_3\"</span>\n",
              "</pre>\n"
            ]
          },
          "metadata": {}
        },
        {
          "output_type": "display_data",
          "data": {
            "text/plain": [
              "┏━━━━━━━━━━━━━━━━━━━━━━━━━━━━━━━━━┳━━━━━━━━━━━━━━━━━━━━━━━━┳━━━━━━━━━━━━━━━┓\n",
              "┃\u001b[1m \u001b[0m\u001b[1mLayer (type)                   \u001b[0m\u001b[1m \u001b[0m┃\u001b[1m \u001b[0m\u001b[1mOutput Shape          \u001b[0m\u001b[1m \u001b[0m┃\u001b[1m \u001b[0m\u001b[1m      Param #\u001b[0m\u001b[1m \u001b[0m┃\n",
              "┡━━━━━━━━━━━━━━━━━━━━━━━━━━━━━━━━━╇━━━━━━━━━━━━━━━━━━━━━━━━╇━━━━━━━━━━━━━━━┩\n",
              "│ embedding_3 (\u001b[38;5;33mEmbedding\u001b[0m)         │ (\u001b[38;5;45mNone\u001b[0m, \u001b[38;5;34m8\u001b[0m, \u001b[38;5;34m10\u001b[0m)          │       \u001b[38;5;34m100,000\u001b[0m │\n",
              "└─────────────────────────────────┴────────────────────────┴───────────────┘\n"
            ],
            "text/html": [
              "<pre style=\"white-space:pre;overflow-x:auto;line-height:normal;font-family:Menlo,'DejaVu Sans Mono',consolas,'Courier New',monospace\">┏━━━━━━━━━━━━━━━━━━━━━━━━━━━━━━━━━┳━━━━━━━━━━━━━━━━━━━━━━━━┳━━━━━━━━━━━━━━━┓\n",
              "┃<span style=\"font-weight: bold\"> Layer (type)                    </span>┃<span style=\"font-weight: bold\"> Output Shape           </span>┃<span style=\"font-weight: bold\">       Param # </span>┃\n",
              "┡━━━━━━━━━━━━━━━━━━━━━━━━━━━━━━━━━╇━━━━━━━━━━━━━━━━━━━━━━━━╇━━━━━━━━━━━━━━━┩\n",
              "│ embedding_3 (<span style=\"color: #0087ff; text-decoration-color: #0087ff\">Embedding</span>)         │ (<span style=\"color: #00d7ff; text-decoration-color: #00d7ff\">None</span>, <span style=\"color: #00af00; text-decoration-color: #00af00\">8</span>, <span style=\"color: #00af00; text-decoration-color: #00af00\">10</span>)          │       <span style=\"color: #00af00; text-decoration-color: #00af00\">100,000</span> │\n",
              "└─────────────────────────────────┴────────────────────────┴───────────────┘\n",
              "</pre>\n"
            ]
          },
          "metadata": {}
        },
        {
          "output_type": "display_data",
          "data": {
            "text/plain": [
              "\u001b[1m Total params: \u001b[0m\u001b[38;5;34m100,000\u001b[0m (390.62 KB)\n"
            ],
            "text/html": [
              "<pre style=\"white-space:pre;overflow-x:auto;line-height:normal;font-family:Menlo,'DejaVu Sans Mono',consolas,'Courier New',monospace\"><span style=\"font-weight: bold\"> Total params: </span><span style=\"color: #00af00; text-decoration-color: #00af00\">100,000</span> (390.62 KB)\n",
              "</pre>\n"
            ]
          },
          "metadata": {}
        },
        {
          "output_type": "display_data",
          "data": {
            "text/plain": [
              "\u001b[1m Trainable params: \u001b[0m\u001b[38;5;34m100,000\u001b[0m (390.62 KB)\n"
            ],
            "text/html": [
              "<pre style=\"white-space:pre;overflow-x:auto;line-height:normal;font-family:Menlo,'DejaVu Sans Mono',consolas,'Courier New',monospace\"><span style=\"font-weight: bold\"> Trainable params: </span><span style=\"color: #00af00; text-decoration-color: #00af00\">100,000</span> (390.62 KB)\n",
              "</pre>\n"
            ]
          },
          "metadata": {}
        },
        {
          "output_type": "display_data",
          "data": {
            "text/plain": [
              "\u001b[1m Non-trainable params: \u001b[0m\u001b[38;5;34m0\u001b[0m (0.00 B)\n"
            ],
            "text/html": [
              "<pre style=\"white-space:pre;overflow-x:auto;line-height:normal;font-family:Menlo,'DejaVu Sans Mono',consolas,'Courier New',monospace\"><span style=\"font-weight: bold\"> Non-trainable params: </span><span style=\"color: #00af00; text-decoration-color: #00af00\">0</span> (0.00 B)\n",
              "</pre>\n"
            ]
          },
          "metadata": {}
        }
      ],
      "source": [
        "model = Sequential()\n",
        "model.add(Embedding(input_dim=voc_size, output_dim=dim, input_shape=(sent_length,)))\n",
        "model.compile(optimizer='adam', loss='mse')\n",
        "model.summary()"
      ]
    },
    {
      "cell_type": "code",
      "execution_count": 65,
      "metadata": {
        "colab": {
          "base_uri": "https://localhost:8080/"
        },
        "id": "ztuCoEdx2qW6",
        "outputId": "eaa6fa7b-61e4-4fb3-bebf-2ec335ab66ac"
      },
      "outputs": [
        {
          "output_type": "stream",
          "name": "stdout",
          "text": [
            "\u001b[1m1/1\u001b[0m \u001b[32m━━━━━━━━━━━━━━━━━━━━\u001b[0m\u001b[37m\u001b[0m \u001b[1m0s\u001b[0m 86ms/step\n"
          ]
        },
        {
          "output_type": "execute_result",
          "data": {
            "text/plain": [
              "array([[[-0.01463634,  0.00479989,  0.02698393,  0.02309115,\n",
              "         -0.03952813, -0.02088282,  0.03387152,  0.01702814,\n",
              "         -0.00470165,  0.02613332],\n",
              "        [-0.01463634,  0.00479989,  0.02698393,  0.02309115,\n",
              "         -0.03952813, -0.02088282,  0.03387152,  0.01702814,\n",
              "         -0.00470165,  0.02613332],\n",
              "        [-0.01463634,  0.00479989,  0.02698393,  0.02309115,\n",
              "         -0.03952813, -0.02088282,  0.03387152,  0.01702814,\n",
              "         -0.00470165,  0.02613332],\n",
              "        [-0.01463634,  0.00479989,  0.02698393,  0.02309115,\n",
              "         -0.03952813, -0.02088282,  0.03387152,  0.01702814,\n",
              "         -0.00470165,  0.02613332],\n",
              "        [-0.02983034,  0.00588813, -0.03625512,  0.04254034,\n",
              "         -0.02430488, -0.03215187,  0.02785594, -0.01112236,\n",
              "          0.0131811 ,  0.02978763],\n",
              "        [-0.00719164, -0.03969673,  0.01094263, -0.03540716,\n",
              "          0.04231877,  0.00435502, -0.03097522,  0.02979254,\n",
              "         -0.01997808, -0.02315433],\n",
              "        [ 0.04895646, -0.02327743,  0.0257608 ,  0.04762045,\n",
              "         -0.032244  , -0.01148327,  0.04757   ,  0.00105932,\n",
              "         -0.03562459,  0.04230766],\n",
              "        [-0.00936524,  0.03619536, -0.00982517, -0.02031985,\n",
              "         -0.04146258,  0.04487811,  0.0029219 , -0.03181984,\n",
              "          0.04268065, -0.02973853]],\n",
              "\n",
              "       [[-0.01463634,  0.00479989,  0.02698393,  0.02309115,\n",
              "         -0.03952813, -0.02088282,  0.03387152,  0.01702814,\n",
              "         -0.00470165,  0.02613332],\n",
              "        [-0.01463634,  0.00479989,  0.02698393,  0.02309115,\n",
              "         -0.03952813, -0.02088282,  0.03387152,  0.01702814,\n",
              "         -0.00470165,  0.02613332],\n",
              "        [-0.01463634,  0.00479989,  0.02698393,  0.02309115,\n",
              "         -0.03952813, -0.02088282,  0.03387152,  0.01702814,\n",
              "         -0.00470165,  0.02613332],\n",
              "        [-0.01463634,  0.00479989,  0.02698393,  0.02309115,\n",
              "         -0.03952813, -0.02088282,  0.03387152,  0.01702814,\n",
              "         -0.00470165,  0.02613332],\n",
              "        [-0.02983034,  0.00588813, -0.03625512,  0.04254034,\n",
              "         -0.02430488, -0.03215187,  0.02785594, -0.01112236,\n",
              "          0.0131811 ,  0.02978763],\n",
              "        [-0.00719164, -0.03969673,  0.01094263, -0.03540716,\n",
              "          0.04231877,  0.00435502, -0.03097522,  0.02979254,\n",
              "         -0.01997808, -0.02315433],\n",
              "        [ 0.04895646, -0.02327743,  0.0257608 ,  0.04762045,\n",
              "         -0.032244  , -0.01148327,  0.04757   ,  0.00105932,\n",
              "         -0.03562459,  0.04230766],\n",
              "        [-0.00123719, -0.00246048, -0.03925723, -0.01157913,\n",
              "          0.01921798, -0.04173591, -0.02835199, -0.01505607,\n",
              "         -0.03233792, -0.04851049]],\n",
              "\n",
              "       [[-0.01463634,  0.00479989,  0.02698393,  0.02309115,\n",
              "         -0.03952813, -0.02088282,  0.03387152,  0.01702814,\n",
              "         -0.00470165,  0.02613332],\n",
              "        [-0.01463634,  0.00479989,  0.02698393,  0.02309115,\n",
              "         -0.03952813, -0.02088282,  0.03387152,  0.01702814,\n",
              "         -0.00470165,  0.02613332],\n",
              "        [-0.01463634,  0.00479989,  0.02698393,  0.02309115,\n",
              "         -0.03952813, -0.02088282,  0.03387152,  0.01702814,\n",
              "         -0.00470165,  0.02613332],\n",
              "        [-0.01463634,  0.00479989,  0.02698393,  0.02309115,\n",
              "         -0.03952813, -0.02088282,  0.03387152,  0.01702814,\n",
              "         -0.00470165,  0.02613332],\n",
              "        [-0.02983034,  0.00588813, -0.03625512,  0.04254034,\n",
              "         -0.02430488, -0.03215187,  0.02785594, -0.01112236,\n",
              "          0.0131811 ,  0.02978763],\n",
              "        [ 0.01359601, -0.04977166, -0.01551006, -0.01177983,\n",
              "          0.00293072, -0.04669363,  0.0016947 , -0.04863042,\n",
              "         -0.00326313,  0.04672236],\n",
              "        [ 0.04895646, -0.02327743,  0.0257608 ,  0.04762045,\n",
              "         -0.032244  , -0.01148327,  0.04757   ,  0.00105932,\n",
              "         -0.03562459,  0.04230766],\n",
              "        [ 0.03842764, -0.02247014, -0.00992398,  0.00467157,\n",
              "          0.0272047 ,  0.03413768,  0.00031594,  0.01491033,\n",
              "         -0.04650293, -0.03137033]],\n",
              "\n",
              "       [[-0.01463634,  0.00479989,  0.02698393,  0.02309115,\n",
              "         -0.03952813, -0.02088282,  0.03387152,  0.01702814,\n",
              "         -0.00470165,  0.02613332],\n",
              "        [-0.01463634,  0.00479989,  0.02698393,  0.02309115,\n",
              "         -0.03952813, -0.02088282,  0.03387152,  0.01702814,\n",
              "         -0.00470165,  0.02613332],\n",
              "        [-0.01463634,  0.00479989,  0.02698393,  0.02309115,\n",
              "         -0.03952813, -0.02088282,  0.03387152,  0.01702814,\n",
              "         -0.00470165,  0.02613332],\n",
              "        [-0.00068498, -0.02715787,  0.03589691, -0.02545897,\n",
              "         -0.01800417,  0.00021174,  0.01246463, -0.0446069 ,\n",
              "          0.01278527, -0.04181193],\n",
              "        [-0.00336403, -0.00741267,  0.03700012,  0.00690172,\n",
              "          0.00264664,  0.04277634, -0.04146782,  0.03882153,\n",
              "          0.01114073,  0.0321073 ],\n",
              "        [ 0.02806193,  0.00936328,  0.02836322,  0.01313641,\n",
              "         -0.01742773, -0.04231049,  0.00431982,  0.01503091,\n",
              "          0.0126105 ,  0.00869321],\n",
              "        [ 0.0362013 ,  0.02997173,  0.03975955,  0.04047472,\n",
              "          0.03865856,  0.02578883,  0.03288071,  0.02105879,\n",
              "          0.02654113, -0.01236629],\n",
              "        [ 0.0231309 ,  0.01051133,  0.00029265,  0.000254  ,\n",
              "          0.02001574, -0.02620958,  0.0212772 ,  0.01309769,\n",
              "         -0.03745461,  0.0139398 ]],\n",
              "\n",
              "       [[-0.01463634,  0.00479989,  0.02698393,  0.02309115,\n",
              "         -0.03952813, -0.02088282,  0.03387152,  0.01702814,\n",
              "         -0.00470165,  0.02613332],\n",
              "        [-0.01463634,  0.00479989,  0.02698393,  0.02309115,\n",
              "         -0.03952813, -0.02088282,  0.03387152,  0.01702814,\n",
              "         -0.00470165,  0.02613332],\n",
              "        [-0.01463634,  0.00479989,  0.02698393,  0.02309115,\n",
              "         -0.03952813, -0.02088282,  0.03387152,  0.01702814,\n",
              "         -0.00470165,  0.02613332],\n",
              "        [-0.00068498, -0.02715787,  0.03589691, -0.02545897,\n",
              "         -0.01800417,  0.00021174,  0.01246463, -0.0446069 ,\n",
              "          0.01278527, -0.04181193],\n",
              "        [-0.00336403, -0.00741267,  0.03700012,  0.00690172,\n",
              "          0.00264664,  0.04277634, -0.04146782,  0.03882153,\n",
              "          0.01114073,  0.0321073 ],\n",
              "        [ 0.02806193,  0.00936328,  0.02836322,  0.01313641,\n",
              "         -0.01742773, -0.04231049,  0.00431982,  0.01503091,\n",
              "          0.0126105 ,  0.00869321],\n",
              "        [ 0.0362013 ,  0.02997173,  0.03975955,  0.04047472,\n",
              "          0.03865856,  0.02578883,  0.03288071,  0.02105879,\n",
              "          0.02654113, -0.01236629],\n",
              "        [ 0.01507426,  0.01167656, -0.0140301 ,  0.02291026,\n",
              "         -0.02358242, -0.04330663,  0.03113112, -0.03913863,\n",
              "         -0.02494692,  0.03746952]],\n",
              "\n",
              "       [[-0.01463634,  0.00479989,  0.02698393,  0.02309115,\n",
              "         -0.03952813, -0.02088282,  0.03387152,  0.01702814,\n",
              "         -0.00470165,  0.02613332],\n",
              "        [-0.01463634,  0.00479989,  0.02698393,  0.02309115,\n",
              "         -0.03952813, -0.02088282,  0.03387152,  0.01702814,\n",
              "         -0.00470165,  0.02613332],\n",
              "        [-0.01463634,  0.00479989,  0.02698393,  0.02309115,\n",
              "         -0.03952813, -0.02088282,  0.03387152,  0.01702814,\n",
              "         -0.00470165,  0.02613332],\n",
              "        [ 0.02967883, -0.02629116, -0.04828664,  0.04946003,\n",
              "         -0.01222839, -0.03791837,  0.00848545, -0.0100661 ,\n",
              "          0.02040717, -0.02004646],\n",
              "        [-0.02983034,  0.00588813, -0.03625512,  0.04254034,\n",
              "         -0.02430488, -0.03215187,  0.02785594, -0.01112236,\n",
              "          0.0131811 ,  0.02978763],\n",
              "        [-0.00497053,  0.0085965 , -0.02089554,  0.03115207,\n",
              "          0.01542989,  0.01223376,  0.0460655 , -0.04075471,\n",
              "         -0.02099662, -0.00725254],\n",
              "        [ 0.04895646, -0.02327743,  0.0257608 ,  0.04762045,\n",
              "         -0.032244  , -0.01148327,  0.04757   ,  0.00105932,\n",
              "         -0.03562459,  0.04230766],\n",
              "        [-0.01291381,  0.04806728,  0.0061462 , -0.02666042,\n",
              "         -0.03059538,  0.03950455,  0.03387677, -0.04761963,\n",
              "         -0.03274024,  0.04372047]],\n",
              "\n",
              "       [[-0.01463634,  0.00479989,  0.02698393,  0.02309115,\n",
              "         -0.03952813, -0.02088282,  0.03387152,  0.01702814,\n",
              "         -0.00470165,  0.02613332],\n",
              "        [-0.01463634,  0.00479989,  0.02698393,  0.02309115,\n",
              "         -0.03952813, -0.02088282,  0.03387152,  0.01702814,\n",
              "         -0.00470165,  0.02613332],\n",
              "        [-0.01463634,  0.00479989,  0.02698393,  0.02309115,\n",
              "         -0.03952813, -0.02088282,  0.03387152,  0.01702814,\n",
              "         -0.00470165,  0.02613332],\n",
              "        [-0.01463634,  0.00479989,  0.02698393,  0.02309115,\n",
              "         -0.03952813, -0.02088282,  0.03387152,  0.01702814,\n",
              "         -0.00470165,  0.02613332],\n",
              "        [-0.0265102 ,  0.01053468, -0.00453681, -0.04238303,\n",
              "          0.00840335,  0.03447837,  0.0138807 ,  0.01878819,\n",
              "         -0.02489185,  0.0249642 ],\n",
              "        [-0.03728445, -0.03470941,  0.046269  ,  0.03794288,\n",
              "          0.01226765, -0.03318174, -0.00662928,  0.04470446,\n",
              "          0.04197134, -0.01983058],\n",
              "        [ 0.00369735, -0.04420663,  0.03143172, -0.04163011,\n",
              "         -0.00571195, -0.03598135, -0.03775094, -0.04023557,\n",
              "         -0.019122  , -0.03151312],\n",
              "        [ 0.0362013 ,  0.02997173,  0.03975955,  0.04047472,\n",
              "          0.03865856,  0.02578883,  0.03288071,  0.02105879,\n",
              "          0.02654113, -0.01236629]]], dtype=float32)"
            ]
          },
          "metadata": {},
          "execution_count": 65
        }
      ],
      "source": [
        "model.predict(embedded_docs)"
      ]
    },
    {
      "cell_type": "code",
      "execution_count": 67,
      "metadata": {
        "colab": {
          "base_uri": "https://localhost:8080/"
        },
        "id": "2IWHZTrC2qW6",
        "outputId": "0e4b9a2f-0364-4e6d-b47a-dd8f28fa8ef0"
      },
      "outputs": [
        {
          "output_type": "stream",
          "name": "stdout",
          "text": [
            "\u001b[1m1/1\u001b[0m \u001b[32m━━━━━━━━━━━━━━━━━━━━\u001b[0m\u001b[37m\u001b[0m \u001b[1m0s\u001b[0m 86ms/step\n"
          ]
        },
        {
          "output_type": "execute_result",
          "data": {
            "text/plain": [
              "array([[[-0.01463634,  0.00479989,  0.02698393,  0.02309115,\n",
              "         -0.03952813, -0.02088282,  0.03387152,  0.01702814,\n",
              "         -0.00470165,  0.02613332],\n",
              "        [-0.01463634,  0.00479989,  0.02698393,  0.02309115,\n",
              "         -0.03952813, -0.02088282,  0.03387152,  0.01702814,\n",
              "         -0.00470165,  0.02613332],\n",
              "        [-0.01463634,  0.00479989,  0.02698393,  0.02309115,\n",
              "         -0.03952813, -0.02088282,  0.03387152,  0.01702814,\n",
              "         -0.00470165,  0.02613332],\n",
              "        [-0.01463634,  0.00479989,  0.02698393,  0.02309115,\n",
              "         -0.03952813, -0.02088282,  0.03387152,  0.01702814,\n",
              "         -0.00470165,  0.02613332],\n",
              "        [-0.02983034,  0.00588813, -0.03625512,  0.04254034,\n",
              "         -0.02430488, -0.03215187,  0.02785594, -0.01112236,\n",
              "          0.0131811 ,  0.02978763],\n",
              "        [-0.00719164, -0.03969673,  0.01094263, -0.03540716,\n",
              "          0.04231877,  0.00435502, -0.03097522,  0.02979254,\n",
              "         -0.01997808, -0.02315433],\n",
              "        [ 0.04895646, -0.02327743,  0.0257608 ,  0.04762045,\n",
              "         -0.032244  , -0.01148327,  0.04757   ,  0.00105932,\n",
              "         -0.03562459,  0.04230766],\n",
              "        [-0.00936524,  0.03619536, -0.00982517, -0.02031985,\n",
              "         -0.04146258,  0.04487811,  0.0029219 , -0.03181984,\n",
              "          0.04268065, -0.02973853]]], dtype=float32)"
            ]
          },
          "metadata": {},
          "execution_count": 67
        }
      ],
      "source": [
        "model.predict(embedded_docs[0].reshape(1,-1))"
      ]
    },
    {
      "cell_type": "code",
      "source": [],
      "metadata": {
        "id": "r45YY6If7zJs"
      },
      "execution_count": 67,
      "outputs": []
    }
  ],
  "metadata": {
    "kernelspec": {
      "display_name": "Python 3",
      "name": "python3"
    },
    "language_info": {
      "codemirror_mode": {
        "name": "ipython",
        "version": 3
      },
      "file_extension": ".py",
      "mimetype": "text/x-python",
      "name": "python",
      "nbconvert_exporter": "python",
      "pygments_lexer": "ipython3",
      "version": "3.11.0"
    },
    "colab": {
      "provenance": [],
      "gpuType": "T4",
      "include_colab_link": true
    },
    "accelerator": "GPU"
  },
  "nbformat": 4,
  "nbformat_minor": 0
}